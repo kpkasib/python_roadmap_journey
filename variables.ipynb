{
 "cells": [
  {
   "cell_type": "markdown",
   "metadata": {},
   "source": [
    "<center><h1>Variable<h1></center>\n",
    " \n",
    "                                                    \n",
    "A Python variable is a reserved memory location to store values. In other words, a variable in a python program gives data to the computer for processing. Every value in Python has a datatype. Different data types in Python are Numbers, List, Tuple, Strings, Dictionary, etc.\n",
    "    "
   ]
  },
  {
   "cell_type": "markdown",
   "metadata": {},
   "source": [
    "The above definition of Varibles you just read I have copied(Ctrl+C) and pasted(Ctrl+V) from google.\n",
    "\n",
    "For the person which is new to programming like me the analogy will be a good to understand the concepts.\n",
    "\n",
    "\"Think of a Python variable like a labeled box. The box is a place where you keep a book. The label on the box tells you what book is inside. So, when you want to read the book later, you just look at the label to know which book is in the box. In Python, a variable is like that label on the box, helping you remember which book is stored inside.\""
   ]
  },
  {
   "cell_type": "markdown",
   "metadata": {},
   "source": [
    "This is how you place a book in a box, I mean, this is how you assign a value to a variable.\n"
   ]
  },
  {
   "cell_type": "code",
   "execution_count": null,
   "metadata": {},
   "outputs": [],
   "source": [
    "box1 = \"Harry Potter and the Philosopher's Stone\""
   ]
  },
  {
   "cell_type": "markdown",
   "metadata": {},
   "source": [
    "1. \"box1\" is a variable, or you can think of it as the name of the box.\n",
    "2. \"=\" is the \"assign\" operator (we will discuss \"operators\" in more detail later). \n",
    "For now, assume the operator similar to your hands, with which you perform the task of putting the book into the box.\n",
    "3. \"Harry Potter and the Philosopher's Stone\" is the book (Value)\n"
   ]
  },
  {
   "cell_type": "markdown",
   "metadata": {},
   "source": [
    "There are some rules of assigning variable just keep them in mind otherwise you will know when your programs give you an syntex error."
   ]
  },
  {
   "cell_type": "markdown",
   "metadata": {},
   "source": [
    "1. Variable names can consist of letters, numbers, and underscores."
   ]
  },
  {
   "cell_type": "code",
   "execution_count": null,
   "metadata": {},
   "outputs": [],
   "source": [
    "#Examples:\n",
    "\n",
    "var1 = 10       #✅ \n",
    "var_2 = 20      #✅\n",
    "\n",
    "\n",
    "var@ = 50       #❌\n",
    "var! = 50       #❌"
   ]
  },
  {
   "cell_type": "markdown",
   "metadata": {},
   "source": [
    "They must start with a letter (a-z, A-Z) or an underscore (_)."
   ]
  },
  {
   "cell_type": "code",
   "execution_count": null,
   "metadata": {},
   "outputs": [],
   "source": [
    "#Examples:\n",
    "\n",
    "var3 = 50      #✅\n",
    "Var4 = 60      #✅\n",
    "_var5 = 70     #✅\n",
    "\n",
    "6var = 80      #❌"
   ]
  }
 ],
 "metadata": {
  "kernelspec": {
   "display_name": "Python 3",
   "language": "python",
   "name": "python3"
  },
  "language_info": {
   "codemirror_mode": {
    "name": "ipython",
    "version": 3
   },
   "file_extension": ".py",
   "mimetype": "text/x-python",
   "name": "python",
   "nbconvert_exporter": "python",
   "pygments_lexer": "ipython3",
   "version": "3.11.5"
  },
  "orig_nbformat": 4
 },
 "nbformat": 4,
 "nbformat_minor": 2
}
